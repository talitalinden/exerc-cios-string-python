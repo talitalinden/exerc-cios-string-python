{
  "nbformat": 4,
  "nbformat_minor": 0,
  "metadata": {
    "colab": {
      "provenance": [],
      "collapsed_sections": [],
      "authorship_tag": "ABX9TyOV0Yvhg0dwh+FpO1fqL6At",
      "include_colab_link": true
    },
    "kernelspec": {
      "name": "python3",
      "display_name": "Python 3"
    },
    "language_info": {
      "name": "python"
    }
  },
  "cells": [
    {
      "cell_type": "markdown",
      "metadata": {
        "id": "view-in-github",
        "colab_type": "text"
      },
      "source": [
        "<a href=\"https://colab.research.google.com/github/talitalinden/exerc-cios-string-python/blob/main/exerc%C3%ADcios_com_string_py.ipynb\" target=\"_parent\"><img src=\"https://colab.research.google.com/assets/colab-badge.svg\" alt=\"Open In Colab\"/></a>"
      ]
    },
    {
      "cell_type": "code",
      "execution_count": null,
      "metadata": {
        "colab": {
          "base_uri": "https://localhost:8080/"
        },
        "id": "FTCWPgOJTpgh",
        "outputId": "11677692-c8bf-4d15-eb0d-cbc9dc446f8f"
      },
      "outputs": [
        {
          "output_type": "stream",
          "name": "stdout",
          "text": [
            "Digite a primeira frase: Domingo à tarde\n",
            "Digite a segunda frase: Descanso de domingo\n",
            "Tamanho de Domingo à tarde :  15 caracteres\n",
            "O tamanho de Descanso de domingo : 19 caracteres\n",
            "As duas frases tem tamanhos diferentes.\n"
          ]
        }
      ],
      "source": [
        "#Faça um programa que leia 2 strings e informe o conteúdo delas seguido do seu comprimento. \n",
        "#Informe também se as duas strings possuem o mesmo comprimento e são iguais ou diferentes no conteúdo.\n",
        "\n",
        "    #Compara duas strings\n",
        "    #String 1: Brasil Hexa 2006\n",
        "    #String 2: Brasil! Hexa 2006!\n",
        "    #Tamanho de \"Brasil Hexa 2006\": 16 caracteres\n",
        "    #Tamanho de \"Brasil! Hexa 2006!\": 18 caracteres\n",
        "    #As duas strings são de tamanhos diferentes.\n",
        "    #As duas strings possuem conteúdo diferente.\n",
        "\n",
        "string1 = str(input(\"Digite a primeira frase: \"))\n",
        "string2 = str(input(\"Digite a segunda frase: \"))\n",
        "\n",
        "print(\"Tamanho de\", string1, \": \", len(string1), \"caracteres\")\n",
        "print(\"O tamanho de\", string2, \":\", len(string2), \"caracteres\")\n",
        "\n",
        "if len(string1) == len(string2): #len calcula o comprimento\n",
        "    print(\"As duas frases são de tamanhos iguais.\")\n",
        "else:\n",
        "    print(\"As duas frases tem tamanhos diferentes.\")"
      ]
    },
    {
      "cell_type": "code",
      "source": [
        "#Faça um programa que permita ao usuário digitar o seu nome e em seguida mostre o nome do usuário de trás para frente utilizando \n",
        "#somente letras maiúsculas. Dica: lembre−se que ao informar o nome o usuário pode digitar letras maiúsculas ou minúsculas. \n",
        "\n",
        "nome_do_usuario = str(input(\"Digite o seu nome: \"))\n",
        "\n",
        "print(nome_do_usuario.upper() [: :-1])"
      ],
      "metadata": {
        "id": "_c_3gLHdTzjd",
        "colab": {
          "base_uri": "https://localhost:8080/"
        },
        "outputId": "52a670ca-979b-484a-9926-b27c542e7435"
      },
      "execution_count": null,
      "outputs": [
        {
          "output_type": "stream",
          "name": "stdout",
          "text": [
            "Digite o seu nome: Talita Hanna Cabral\n",
            "LARBAC ANNAH ATILAT\n"
          ]
        }
      ]
    },
    {
      "cell_type": "code",
      "source": [
        "#Nome na vertical. Faça um programa que solicite o nome do usuário e imprima-o na vertical. \n",
        "\n",
        "nome = str(input(\"Digite o seu nome: \"))\n",
        "for i in nome:\n",
        "    print(str.upper(i))"
      ],
      "metadata": {
        "colab": {
          "base_uri": "https://localhost:8080/"
        },
        "id": "QR-sGL_j90ci",
        "outputId": "c5119751-1f5a-4272-993e-48ab1fad7345"
      },
      "execution_count": null,
      "outputs": [
        {
          "output_type": "stream",
          "name": "stdout",
          "text": [
            "Digite o seu nome: Talita Hanna\n",
            "T\n",
            "A\n",
            "L\n",
            "I\n",
            "T\n",
            "A\n",
            " \n",
            "H\n",
            "A\n",
            "N\n",
            "N\n",
            "A\n"
          ]
        }
      ]
    },
    {
      "cell_type": "code",
      "source": [
        "#Nome na vertical em escada. Modifique o programa anterior de forma a mostrar o nome em formato de escada. \n",
        "\n",
        "nome = str(input(\"Digite o seu nome: \")).upper()\n",
        "for i in range(0, len(nome)+1):\n",
        "    print(nome[i:])"
      ],
      "metadata": {
        "colab": {
          "base_uri": "https://localhost:8080/"
        },
        "id": "wAo5eqUBHK1d",
        "outputId": "3cdd4f37-4f64-4039-c54a-2cd2ddef6272"
      },
      "execution_count": null,
      "outputs": [
        {
          "output_type": "stream",
          "name": "stdout",
          "text": [
            "Digite o seu nome: Talita Hanna\n",
            "TALITA HANNA\n",
            "ALITA HANNA\n",
            "LITA HANNA\n",
            "ITA HANNA\n",
            "TA HANNA\n",
            "A HANNA\n",
            " HANNA\n",
            "HANNA\n",
            "ANNA\n",
            "NNA\n",
            "NA\n",
            "A\n",
            "\n"
          ]
        }
      ]
    },
    {
      "cell_type": "code",
      "source": [
        "#Nome na vertical em escada invertida. Altere o programa anterior de modo que a escada seja invertida. \n",
        "\n",
        "nome = str(input(\"Digite o seu nome: \")).upper()\n",
        "for i in range(0, len(nome)+1):\n",
        "    print(nome[i: :-1])"
      ],
      "metadata": {
        "colab": {
          "base_uri": "https://localhost:8080/"
        },
        "id": "27wm05xTJEgF",
        "outputId": "5b1352a5-c26c-4363-9dc3-8dc0725aef86"
      },
      "execution_count": null,
      "outputs": [
        {
          "output_type": "stream",
          "name": "stdout",
          "text": [
            "Digite o seu nome: Talita Hanna\n",
            "T\n",
            "AT\n",
            "LAT\n",
            "ILAT\n",
            "TILAT\n",
            "ATILAT\n",
            " ATILAT\n",
            "H ATILAT\n",
            "AH ATILAT\n",
            "NAH ATILAT\n",
            "NNAH ATILAT\n",
            "ANNAH ATILAT\n",
            "ANNAH ATILAT\n"
          ]
        }
      ]
    },
    {
      "cell_type": "code",
      "source": [
        "#Data por extenso. Faça um programa que solicite a data de nascimento (dd/mm/aaaa) do usuário e imprima a data com o nome do mês por extenso. \n",
        "\n",
        "dia, mes, ano = input(\"Digite a data do seu nascimento: \"). split('/')\n",
        "meses = ['janeiro', 'fevereiro', 'março', 'abril', 'maio', 'junho', 'julho', 'agosto', 'setembro', 'outubro', 'novembro', 'dezembro']\n",
        "\n",
        "print(dia, 'de', meses[int(mes)-1], 'de', ano)"
      ],
      "metadata": {
        "colab": {
          "base_uri": "https://localhost:8080/"
        },
        "id": "WAG4bDDMLLWE",
        "outputId": "837202b1-d403-4bab-bf7a-52e9b37d7046"
      },
      "execution_count": null,
      "outputs": [
        {
          "output_type": "stream",
          "name": "stdout",
          "text": [
            "Digite a data do seu nascimento: 26/06/1985\n",
            "26 de junho de 1985\n"
          ]
        }
      ]
    },
    {
      "cell_type": "code",
      "source": [
        "#Conta espaços e vogais. Dado uma string com uma frase informada pelo usuário (incluindo espaços em branco), conte:\n",
        "\n",
        "    #quantos espaços em branco existem na frase.\n",
        "    #quantas vezes aparecem as vogais a, e, i, o, u. \n",
        "\n",
        "frase = str(input(\"Digite uma frase: \"))\n",
        "vogais = 0\n",
        "esp = 0\n",
        "for letra in frase:\n",
        "    if letra == \" \":\n",
        "        esp += 1\n",
        "    elif letra in ['a', 'e', 'i', 'o', 'u']:\n",
        "        vogais += 1\n",
        "print(\"A frase tem %d vogais e %d espaços.\" % (vogais, esp))\n"
      ],
      "metadata": {
        "colab": {
          "base_uri": "https://localhost:8080/"
        },
        "id": "Gs43CcEgo4SQ",
        "outputId": "2f98fa27-b7fc-4569-fb81-0f128c3c5dbf"
      },
      "execution_count": null,
      "outputs": [
        {
          "output_type": "stream",
          "name": "stdout",
          "text": [
            "Digite uma frase: Bicho que calor\n",
            "A frase tem 6 vogais e 2 espaços.\n"
          ]
        }
      ]
    },
    {
      "cell_type": "code",
      "source": [
        "#Palíndromo. Um palíndromo é uma seqüência de caracteres cuja leitura é idêntica se feita da direita para esquerda ou vice−versa. \n",
        "#Por exemplo: OSSO e OVO são palíndromos. Em textos mais complexos os espaços e pontuação são ignorados. \n",
        "#A frase SUBI NO ONIBUS é o exemplo de uma frase palíndroma onde os espaços foram ignorados. \n",
        "#Faça um programa que leia uma seqüência de caracteres, mostre−a e diga se é um palíndromo ou não. \n",
        "\n",
        "frase = input(\"Digite uma frase: \")\n",
        "\n",
        "frase_inversa = frase[::-1] #para inverter a string\n",
        "frase = frase.replace(\"\",\"\")\n",
        "frase_inversa = frase_inversa.replace(\"\",\"\")\n",
        "\n",
        "if(frase.lower() == frase_inversa.lower()):\n",
        "    print(\"É um palíndromo\")\n",
        "else:\n",
        "    print(\"Não é um palíndromo\")\n"
      ],
      "metadata": {
        "id": "92upQXhfre4v",
        "colab": {
          "base_uri": "https://localhost:8080/"
        },
        "outputId": "01106f1f-18b5-4b78-9d11-745137353160"
      },
      "execution_count": null,
      "outputs": [
        {
          "output_type": "stream",
          "name": "stdout",
          "text": [
            "Digite uma frase: Estou com fome\n",
            "Não é um palíndromo\n"
          ]
        }
      ]
    },
    {
      "cell_type": "code",
      "source": [
        "#Verificação de CPF. Desenvolva um programa que solicite a digitação de um número de CPF no formato xxx.xxx.xxx-xx e indique se \n",
        "#é um número válido ou inválido através da validação dos dígitos verificadores e dos caracteres de formatação. \n",
        "\n",
        "cpf = str(input(\"Digite o CPF no formato: [xxx.xxx.xxx-xx]: \"))\n",
        "\n",
        "if len(cpf) < 14:\n",
        "    print(\"CPF digitado incorretamente\")\n",
        "else:\n",
        "    if cpf[3] != '.':\n",
        "        print('CPF digitado incorretamente')\n",
        "    else:\n",
        "        if cpf[7] != '.':\n",
        "            print('CPF digitado incorretamente')\n",
        "        else:\n",
        "            if cpf[11] != '-':\n",
        "                print('CPF digitado incorretamente')\n",
        "            else:\n",
        "                print('CPF digitado corretamente')\n"
      ],
      "metadata": {
        "id": "nOXsC0HsF7bq",
        "colab": {
          "base_uri": "https://localhost:8080/"
        },
        "outputId": "6b1db99d-1d69-4188-98fa-6fe5bf277665"
      },
      "execution_count": 45,
      "outputs": [
        {
          "output_type": "stream",
          "name": "stdout",
          "text": [
            "Digite o CPF no formato: [xxx.xxx.xxx-xx]: 333.333.333-33\n",
            "CPF digitado corretamente\n"
          ]
        }
      ]
    },
    {
      "cell_type": "code",
      "source": [
        "#Número por extenso. Escreva um programa que solicite ao usuário a digitação de um número até 99 e imprima-o na tela por extenso.\n",
        "\n",
        "unid_dez = ['um', 'dois', 'três', 'quatro', 'cinco', 'seis', 'sete', 'oito', 'nove', 'dez', 'onze', 'doze', \n",
        "         'treze', 'catorze', 'quinze', 'dezesseis', 'dezessete', 'dezoito', 'dezenove' ], \\\n",
        "        ['vinte', 'trinta', 'quarenta', 'cinquenta', 'sessenta', 'setenta', 'oitenta', 'noventa']\n",
        "\n",
        "num = int(input(\"Digite um número de 0 a 99: \"))\n",
        "\n",
        "while num < 0 or num > 99:\n",
        "    print(\"[o numero precisa ser entre 1 e 99]\")\n",
        "    num = int(input(\"Digite um número: \"))\n",
        "if num < 20:\n",
        "    print(unid_dez[0][num - 1])\n",
        "else:\n",
        "    num = str(num)\n",
        "    if num[1] == '0':\n",
        "        num = int(num[0])\n",
        "        print(unid_dez[1][num -2])\n",
        "    else:\n",
        "        num_d = int(num[0])\n",
        "        print(unid_dez[1][num_d - 2], end=\" e \")\n",
        "        num_u = int(num[1])\n",
        "        print(unid_dez[0][num_u - 1])"
      ],
      "metadata": {
        "colab": {
          "base_uri": "https://localhost:8080/"
        },
        "id": "1b_nhfshGJdF",
        "outputId": "4ace29ad-0a23-4525-d92d-2921ee2c17e2"
      },
      "execution_count": 8,
      "outputs": [
        {
          "output_type": "stream",
          "name": "stdout",
          "text": [
            "Digite um número de 0 a 99: 100\n",
            "[o numero precisa ser entre 1 e 99]\n",
            "Digite um número: 25\n",
            "vinte e cinco\n"
          ]
        }
      ]
    },
    {
      "cell_type": "code",
      "source": [
        "#Jogo de Forca. Desenvolva um jogo da forca. O programa terá uma lista de palavras lidas de um arquivo texto e escolherá uma aleatoriamente. \n",
        "#O jogador poderá errar 6 vezes antes de ser enforcado.\n",
        "\n",
        "    #Digite uma letra: A\n",
        "    #-> Você errou pela 1ª vez. Tente de novo!\n",
        "\n",
        "    #Digite uma letra: O\n",
        "    #A palavra é: _ _ _ _ O\n",
        "\n",
        "    #Digite uma letra: E\n",
        "    #A palavra é: _ E _ _ O\n",
        "\n",
        "    #Digite uma letra: S\n",
        "    #-> Você errou pela 2ª vez. Tente de novo!"
      ],
      "metadata": {
        "id": "ufXw1kC-aLh-"
      },
      "execution_count": null,
      "outputs": []
    },
    {
      "cell_type": "code",
      "source": [
        "#Valida e corrige número de telefone. Faça um programa que leia um número de telefone, e corrija o número no caso deste conter somente 7 dígitos, \n",
        "#acrescentando o '3' na frente. O usuário pode informar o número com ou sem o traço separador.\n",
        "\n",
        "    #Valida e corrige número de telefone\n",
        "    #Telefone: 461-0133\n",
        "    #Telefone possui 7 dígitos. Vou acrescentar o digito três na frente.\n",
        "    #Telefone corrigido sem formatação: 34610133\n",
        "    #Telefone corrigido com formatação: 3461-0133\n"
      ],
      "metadata": {
        "id": "T_k9psyxaYjd"
      },
      "execution_count": null,
      "outputs": []
    }
  ]
}